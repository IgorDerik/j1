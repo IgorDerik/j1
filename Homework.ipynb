{
 "cells": [
  {
   "cell_type": "code",
   "execution_count": null,
   "metadata": {},
   "outputs": [],
   "source": [
    "# Spark Jupyter Homework\n",
    "\n",
    "This application uses spark to get needed data from the hotels dataset.\n",
    "Class Hotel is representing hotel.\n",
    "You should provide a csv file with hotels information to proceed.\n",
    "\n",
    "## Getting Started\n",
    "\n",
    "Please run this notebook to calculate the results\n",
    "\n",
    "## Methods\n",
    "\n",
    "```\n",
    "def hotelRDD(context: SparkContext, csvPath: String): RDD[Hotel]\n",
    "```\n",
    "* Method to create dataset of Hotels from the csv file\n",
    "* @param context: Spark Context\n",
    "* @param csvPath: Path to the csv file\n",
    "* @throws InvalidInputException if path to the csv file is not correct\n",
    "* @return: Resilient Distributed Dataset (RDD) of Hotels\n",
    "\n",
    "```\n",
    "def get3MostPopularCoupleHotels(hotelRDD: RDD[Hotel]): Array[((Int, Int, Int), Int)]\n",
    "```\n",
    "* Method to find top 3 most popular hotels between couples\n",
    "* @param hotelRDD: Resilient Distributed Dataset (RDD) of Hotels to proceed\n",
    "* @return Array[((continent, country, market), number)]: Array of hotels and their number in the dataset.\n",
    "* Hotels are treated as composite keys of continent, country and market."
   ]
  },
  {
   "cell_type": "code",
   "execution_count": 4,
   "metadata": {},
   "outputs": [
    {
     "data": {
      "text/plain": [
       "defined object Hotel\n",
       "defined class Hotel\n"
      ]
     },
     "metadata": {},
     "output_type": "display_data"
    }
   ],
   "source": [
    "object Hotel {\n",
    "\n",
    "  /**\n",
    "    * Getting integer value in any case\n",
    "    * @param array Array of strings\n",
    "    * @param index Array index\n",
    "    * @return converted from string integer value\n",
    "    *         In case of any Exception method returns 0\n",
    "    */\n",
    "  private def getAsInt(array: Array[String], index: Int): Int = {\n",
    "    try {\n",
    "      array(index).toInt\n",
    "    } catch {\n",
    "      case e: Exception => 0\n",
    "    }\n",
    "  }\n",
    "\n",
    "  /**\n",
    "    * Create hotel object from CSV-like string\n",
    "    * @param row String contains comma-separated values\n",
    "    * @return Object of Hotel Class\n",
    "    */\n",
    "  def createHotel(row: String): Hotel = {\n",
    "\n",
    "    val hotelElements: Array[String] = row.split(\",\")\n",
    "\n",
    "    new Hotel(\n",
    "      getAsInt(hotelElements,3),\n",
    "      getAsInt(hotelElements,13),\n",
    "      getAsInt(hotelElements,14),\n",
    "      getAsInt(hotelElements,16),\n",
    "      getAsInt(hotelElements,18),\n",
    "      getAsInt(hotelElements,20),\n",
    "      getAsInt(hotelElements,21),\n",
    "      getAsInt(hotelElements,22),\n",
    "      getAsInt(hotelElements,23)\n",
    "    )\n",
    "  }\n",
    "}\n",
    "\n",
    "  /**\n",
    "    * Class representing Hotel\n",
    "    */\n",
    "case class Hotel(user_location_country: Int,\n",
    "                 srch_adults_cnt: Int,\n",
    "                 srch_children_cnt: Int,\n",
    "                 srch_destination_id: Int,\n",
    "                 is_booking: Int,\n",
    "                 hotel_continent: Int,\n",
    "                 hotel_country: Int,\n",
    "                 hotel_market: Int,\n",
    "                 hotel_cluster: Int)"
   ]
  },
  {
   "cell_type": "code",
   "execution_count": 21,
   "metadata": {},
   "outputs": [
    {
     "data": {
      "text/plain": [
       "hotelRDD = MapPartitionsRDD[31] at map at <console>:39\n",
       "get3MostPopularCoupleHotels = Array(((2,50,628),1190143), ((2,50,675),1007502), ((4,8,110),588213))\n"
      ]
     },
     "metadata": {},
     "output_type": "display_data"
    },
    {
     "data": {
      "text/plain": [
       "Array(((2,50,628),1190143), ((2,50,675),1007502), ((4,8,110),588213))"
      ]
     },
     "execution_count": 21,
     "metadata": {},
     "output_type": "execute_result"
    }
   ],
   "source": [
    "//Create dataset of Hotels from the csv file\n",
    "val hotelRDD = sc\n",
    "                .textFile(\"train.csv\")\n",
    "                .filter(row => !row.startsWith(\"date_time,site_name,posa_continent,user_location_country\"))\n",
    "                .map(Hotel.createHotel)\n",
    "\n",
    "//Finding top 3 most popular hotels between couples\n",
    "//Valiable returns array of hotels and their number in the dataset\n",
    "//Hotels are treated as composite keys of continent, country and market.\n",
    "val get3MostPopularCoupleHotels = hotelRDD\n",
    "      .filter(hotel => hotel.srch_adults_cnt == 2)\n",
    "      .map(hotel => ((hotel.hotel_continent, hotel.hotel_country, hotel.hotel_market), 1))\n",
    "      .reduceByKey((x, y) => x + y)\n",
    "      .sortBy(_._2, ascending = false)\n",
    "      .take(3)"
   ]
  },
  {
   "cell_type": "code",
   "execution_count": 22,
   "metadata": {},
   "outputs": [
    {
     "name": "stdout",
     "output_type": "stream",
     "text": [
      "Top 3 most popular hotels between couples:\n",
      "(2,50,628)\n",
      "(2,50,675)\n",
      "(4,8,110)\n"
     ]
    }
   ],
   "source": [
    "//printing results\n",
    "println(\"Top 3 most popular hotels between couples:\")\n",
    "get3MostPopularCoupleHotels.foreach(arr => println(arr._1 ))"
   ]
  }
 ],
 "metadata": {
  "kernelspec": {
   "display_name": "Apache Toree - Scala",
   "language": "scala",
   "name": "apache_toree_scala"
  },
  "language_info": {
   "codemirror_mode": "text/x-scala",
   "file_extension": ".scala",
   "mimetype": "text/x-scala",
   "name": "scala",
   "pygments_lexer": "scala",
   "version": "2.11.12"
  }
 },
 "nbformat": 4,
 "nbformat_minor": 2
}
